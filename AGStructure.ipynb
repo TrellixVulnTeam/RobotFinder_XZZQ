{
 "cells": [
  {
   "cell_type": "code",
   "execution_count": 1,
   "id": "74674a9c",
   "metadata": {},
   "outputs": [],
   "source": [
    "import numpy as np\n",
    "import roboticstoolbox as rtb\n",
    "from roboticstoolbox import *\n",
    "from spatialmath import *\n",
    "from math import pi\n",
    "import matplotlib.pyplot as plt\n",
    "from matplotlib import cm\n",
    "from matplotlib import cm\n",
    "import random\n",
    "import RobotUtils"
   ]
  },
  {
   "cell_type": "code",
   "execution_count": 2,
   "id": "b01aa47c",
   "metadata": {},
   "outputs": [],
   "source": [
    "MAX_a = 10\n",
    "MAX_d = 10\n",
    "MAX_alpha = np.pi*2\n",
    "MAX_theta = np.pi*2"
   ]
  },
  {
   "attachments": {
    "image.png": {
     "image/png": "[encoded data removed]"
    }
   },
   "cell_type": "markdown",
   "id": "acbc7515",
   "metadata": {},
   "source": [
    "Este programa constrói a lógica do Algoritmo Genético que constrói o Robô, o AG1.\n",
    "O cromossomo segue a estrutura descrita na imagem abaixo.\n",
    "![image.png](attachment:image.png)\n",
    "\n",
    "O cromossomo é inteiramente binário. Os 3 primeiros bits são referentes aos tipos das 3 juntas, sendo '1' equivalente a junta de rotação e '0' a junta prismática.\n",
    "Cada um dos 3 bytes seguintes é referente ao valor constante de cada uma das juntas, sendo esse valor theta, caso a junta seja prismática, e d, caso seja uma junta de rotação. O valor desses parâmetros é discretizado em 256 estados possíveis, assim como os valores de 'a', que são determinados pelos 3 bytes seguintes.\n",
    "Em seguida, restam 6 bits, sendo cada par de bit destinado para o valor de alpha. Os valores de aplha estão discretizados para múltiplos de pi/2, ou seja, apenas 4 valores."
   ]
  },
  {
   "cell_type": "code",
   "execution_count": 3,
   "id": "4c5df26b",
   "metadata": {},
   "outputs": [],
   "source": [
    "robot_build_funcs = {'RRR': RobotUtils.robo_RRR,\n",
    "                    'RRP' : RobotUtils.robo_RRP,\n",
    "                    'RPR' : RobotUtils.robo_RPR,\n",
    "                    'RPP' : RobotUtils.robo_RPP,\n",
    "                    'PRR' : RobotUtils.robo_PRR,\n",
    "                    'PRP' : RobotUtils.robo_PRP,\n",
    "                    'PPR' : RobotUtils.robo_PPR,\n",
    "                    'PPP' : RobotUtils.robo_PPP}"
   ]
  },
  {
   "cell_type": "code",
   "execution_count": 4,
   "id": "74d8ff2d",
   "metadata": {},
   "outputs": [],
   "source": [
    "def birth_robot(cromossomo):\n",
    "#     for i in range(2, 57, 8):\n",
    "    const_list = [sum([(2**j) if cromossomo[j+i] else 0 for j in range(8)]) for i in range(3, 27, 8)]\n",
    "    a_list = [sum([(2**j) if cromossomo[j+i] else 0 for j in range(8)]) for i in range(27, 51, 8)]\n",
    "    juntas = cromossomo[:3]\n",
    "    alpha_list = [sum([(2**j) if cromossomo[j+i] else 0 for j in range(2)]) for i in range(51, 57, 2)]\n",
    "    for i in range(3):\n",
    "        const_list[i] = const_list[i]*MAX_d/255.0 if juntas[i] else const_list[i]*MAX_theta/255.0\n",
    "        \n",
    "        alpha_list[i] = alpha_list[i]*MAX_alpha/4.0\n",
    "        a_list[i] = a_list[i]*MAX_a/255.0\n",
    "    \n",
    "    strRobot = ''\n",
    "    for i in cromossomo[:3]:\n",
    "        strRobot += 'R' if i else 'P'\n",
    "    robo = robot_build_funcs[strRobot]('',const_list,a_list,alpha_list)\n",
    "    return robo\n",
    "        "
   ]
  },
  {
   "cell_type": "code",
   "execution_count": 9,
   "id": "e04fc5ad",
   "metadata": {},
   "outputs": [
    {
     "name": "stdout",
     "output_type": "stream",
     "text": [
      "0.0025267601013183594\n",
      "DHRobot: , 3 joints (PRP), dynamics, standard DH parameters\n",
      "┏━━━━━━━━━━━━━━━━━━━━┳━━━━━━━┳━━━━━━━┳━━━━━━━━┓\n",
      "┃        θⱼ          ┃  dⱼ   ┃  aⱼ   ┃   ⍺ⱼ   ┃\n",
      "┣━━━━━━━━━━━━━━━━━━━━╋━━━━━━━╋━━━━━━━╋━━━━━━━━┫\n",
      "┃234.35294117647058°\u001b[0m ┃    q1\u001b[0m ┃ 2.627\u001b[0m ┃ 180.0°\u001b[0m ┃\n",
      "┃ q2\u001b[0m                 ┃ 6.471\u001b[0m ┃ 5.765\u001b[0m ┃ 180.0°\u001b[0m ┃\n",
      "┃194.82352941176472°\u001b[0m ┃    q3\u001b[0m ┃ 4.157\u001b[0m ┃  90.0°\u001b[0m ┃\n",
      "┗━━━━━━━━━━━━━━━━━━━━┻━━━━━━━┻━━━━━━━┻━━━━━━━━┛\n",
      "\n"
     ]
    }
   ],
   "source": [
    "import sys\n",
    "import time\n",
    "t1 = time.time()\n",
    "example_cr = np.random.randint(2, size=(57,), dtype=bool)\n",
    "robo = birth_robot(example_cr)\n",
    "t2 = time.time()\n",
    "print(t2-t1)\n",
    "print(robo)"
   ]
  },
  {
   "cell_type": "code",
   "execution_count": 10,
   "id": "66e227b2",
   "metadata": {},
   "outputs": [
    {
     "name": "stdout",
     "output_type": "stream",
     "text": [
      "0\n",
      "1\n",
      "2\n",
      "[ 3  4  5  6  7  8  9 10]\n",
      "[11 12 13 14 15 16 17 18]\n",
      "[19 20 21 22 23 24 25 26]\n",
      "[27 28 29 30 31 32 33 34]\n",
      "[35 36 37 38 39 40 41 42]\n",
      "[43 44 45 46 47 48 49 50]\n",
      "[51 52]\n",
      "[53 54]\n",
      "[55 56]\n",
      "0.35507340011682187\n"
     ]
    }
   ],
   "source": [
    "a = np.array([d for d in range(57)])\n",
    "for i in range(3):\n",
    "    print(a[i])\n",
    "for i in range(3,27,8):\n",
    "    print(a[i:i+8])\n",
    "for i in range(27,51,8):\n",
    "    print(a[i:i+8])\n",
    "for i in range(51,57,2):\n",
    "    print(a[i:i+2])\n",
    "print(np.random.rand())"
   ]
  },
  {
   "cell_type": "code",
   "execution_count": 11,
   "id": "28f97459",
   "metadata": {},
   "outputs": [],
   "source": [
    "robot = DHRobot(\n",
    "      [\n",
    "        PrismaticDH(a=0,alpha=0,theta=0,offset=0),\n",
    "        PrismaticDH(a=0,alpha=0,theta=0,offset=0),\n",
    "        PrismaticDH(a=0,alpha=0,theta=0,offset=0),\n",
    "       ], name='')"
   ]
  }
 ],
 "metadata": {
  "kernelspec": {
   "display_name": "Python 3 (ipykernel)",
   "language": "python",
   "name": "python3"
  },
  "language_info": {
   "codemirror_mode": {
    "name": "ipython",
    "version": 3
   },
   "file_extension": ".py",
   "mimetype": "text/x-python",
   "name": "python",
   "nbconvert_exporter": "python",
   "pygments_lexer": "ipython3",
   "version": "3.8.10"
  }
 },
 "nbformat": 4,
 "nbformat_minor": 5
}
